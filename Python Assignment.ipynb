{
 "cells": [
  {
   "cell_type": "markdown",
   "id": "ae0d362e",
   "metadata": {},
   "source": [
    "# Python Assignment"
   ]
  },
  {
   "cell_type": "markdown",
   "id": "9ea1f9c7",
   "metadata": {},
   "source": [
    "Check if the given string is a palindrome or not irrespective of case"
   ]
  },
  {
   "cell_type": "code",
   "execution_count": 1,
   "id": "126cf9a5",
   "metadata": {},
   "outputs": [
    {
     "name": "stdout",
     "output_type": "stream",
     "text": [
      "Please enter a string: malayalam\n",
      "malayalam is a palindrome\n"
     ]
    }
   ],
   "source": [
    "word = input(\"Please enter a string: \").lower()\n",
    " \n",
    "if list(word) == list(reversed(word)):\n",
    "    print(\"{} is a palindrome\".format(word))\n",
    "else:\n",
    "    print(\"{} is NOT a palindrome\".format(word))"
   ]
  },
  {
   "cell_type": "code",
   "execution_count": null,
   "id": "fdb15040",
   "metadata": {},
   "outputs": [],
   "source": []
  },
  {
   "cell_type": "markdown",
   "id": "a64229ea",
   "metadata": {},
   "source": [
    "Print the number of times that a substring occurs in the given string."
   ]
  },
  {
   "cell_type": "code",
   "execution_count": 2,
   "id": "7e022d9c",
   "metadata": {},
   "outputs": [
    {
     "name": "stdout",
     "output_type": "stream",
     "text": [
      "Please enter a string: malayalam\n",
      "Please enter the pattern to be checked: al\n",
      "The number of times your pattern appears in the word is:  2\n"
     ]
    }
   ],
   "source": [
    "word = input(\"Please enter a string: \")\n",
    "pattern = input(\"Please enter the pattern to be checked: \")\n",
    "print(\"The number of times your pattern appears in the word is: \",word.count(pattern))"
   ]
  },
  {
   "cell_type": "code",
   "execution_count": null,
   "id": "bd2460ac",
   "metadata": {},
   "outputs": [],
   "source": []
  },
  {
   "cell_type": "markdown",
   "id": "c4e147d8",
   "metadata": {},
   "source": [
    "Create a basic rock paper scissors game."
   ]
  },
  {
   "cell_type": "code",
   "execution_count": 3,
   "id": "3486e602",
   "metadata": {},
   "outputs": [
    {
     "name": "stdout",
     "output_type": "stream",
     "text": [
      "Enter a choice (rock, paper, scissors): rock\n",
      "\n",
      "You chose rock, computer chose paper.\n",
      "\n",
      "Paper covers rock! You lose.\n",
      "Play again? (y/n): y\n",
      "Enter a choice (rock, paper, scissors): paper\n",
      "\n",
      "You chose paper, computer chose scissors.\n",
      "\n",
      "Scissors cuts paper! You lose.\n",
      "Play again? (y/n): y\n",
      "Enter a choice (rock, paper, scissors): rock\n",
      "\n",
      "You chose rock, computer chose paper.\n",
      "\n",
      "Paper covers rock! You lose.\n",
      "Play again? (y/n): y\n",
      "Enter a choice (rock, paper, scissors): scissors\n",
      "\n",
      "You chose scissors, computer chose rock.\n",
      "\n",
      "Rock smashes scissors! You lose.\n",
      "Play again? (y/n): n\n"
     ]
    }
   ],
   "source": [
    "import random\n",
    "\n",
    "while True:\n",
    "\n",
    "    user_choice = input(\"Enter a choice (rock, paper, scissors): \")\n",
    "\n",
    "    options = [\"rock\", \"paper\", \"scissors\"]\n",
    "    computer_choice = random.choice(options)\n",
    "\n",
    "    print(f\"\\nYou chose {user_choice}, computer chose {computer_choice}.\\n\")\n",
    "\n",
    "    if user_choice == computer_choice:\n",
    "        print(f\"Both players selected {user_choice}. TIE!!!\")\n",
    "    elif user_choice == 'rock':\n",
    "        if computer_choice == \"scissors\":\n",
    "            print(\"Rock smashes scissors! You win!\")\n",
    "        else:\n",
    "            print(\"Paper covers rock! You lose.\")\n",
    "    elif user_choice == \"paper\":\n",
    "        if computer_choice == \"rock\":\n",
    "            print(\"Paper covers rock! You win!\")\n",
    "        else:\n",
    "            print(\"Scissors cuts paper! You lose.\")\n",
    "    elif user_choice == \"scissors\":\n",
    "        if computer_choice == \"paper\":\n",
    "            print(\"Scissors cuts paper! You win!\")\n",
    "        else:\n",
    "            print(\"Rock smashes scissors! You lose.\")\n",
    "    else:\n",
    "        print(\"Your choice doesnt exist, You loose\")\n",
    "\n",
    "    play_again = input(\"Play again? (y/n): \")\n",
    "    if play_again.lower() != \"y\":\n",
    "        break"
   ]
  },
  {
   "cell_type": "code",
   "execution_count": null,
   "id": "5495b63a",
   "metadata": {},
   "outputs": [],
   "source": []
  }
 ],
 "metadata": {
  "kernelspec": {
   "display_name": "Python 3 (ipykernel)",
   "language": "python",
   "name": "python3"
  },
  "language_info": {
   "codemirror_mode": {
    "name": "ipython",
    "version": 3
   },
   "file_extension": ".py",
   "mimetype": "text/x-python",
   "name": "python",
   "nbconvert_exporter": "python",
   "pygments_lexer": "ipython3",
   "version": "3.9.12"
  }
 },
 "nbformat": 4,
 "nbformat_minor": 5
}
